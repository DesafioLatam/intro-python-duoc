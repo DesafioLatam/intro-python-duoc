{
 "cells": [
  {
   "cell_type": "markdown",
   "metadata": {},
   "source": [
    "# Diccionarios en Python\n"
   ]
  },
  {
   "cell_type": "markdown",
   "metadata": {},
   "source": [
    "- Ejemplo de un diccionario en Python"
   ]
  },
  {
   "cell_type": "code",
   "execution_count": null,
   "metadata": {},
   "outputs": [],
   "source": [
    "diccionario = {\"alumno_1\":7 , \"alumno_2\": [2,3]}"
   ]
  },
  {
   "cell_type": "code",
   "execution_count": null,
   "metadata": {},
   "outputs": [],
   "source": [
    "diccionario"
   ]
  },
  {
   "cell_type": "markdown",
   "metadata": {},
   "source": [
    "- Búsqueda de un elemento - Lista V/S diccionario"
   ]
  },
  {
   "cell_type": "code",
   "execution_count": null,
   "metadata": {},
   "outputs": [],
   "source": [
    "lista = [2,3,4,5,6]"
   ]
  },
  {
   "cell_type": "code",
   "execution_count": null,
   "metadata": {},
   "outputs": [],
   "source": [
    "lista[4]"
   ]
  },
  {
   "cell_type": "code",
   "execution_count": null,
   "metadata": {},
   "outputs": [],
   "source": [
    "diccionario['alumno_1']"
   ]
  },
  {
   "cell_type": "markdown",
   "metadata": {},
   "source": [
    "- Clave duplicada en un diccionario"
   ]
  },
  {
   "cell_type": "code",
   "execution_count": null,
   "metadata": {},
   "outputs": [],
   "source": [
    "diccionario = {'alumno_1': 6, 'alumno_2': 7, 'alumno_1': 3}"
   ]
  },
  {
   "cell_type": "code",
   "execution_count": null,
   "metadata": {},
   "outputs": [],
   "source": [
    "diccionario"
   ]
  },
  {
   "cell_type": "markdown",
   "metadata": {},
   "source": [
    "- Agregar elementos a un diccionario"
   ]
  },
  {
   "cell_type": "code",
   "execution_count": null,
   "metadata": {},
   "outputs": [],
   "source": [
    "diccionario['alumno_5'] = 3"
   ]
  },
  {
   "cell_type": "code",
   "execution_count": null,
   "metadata": {},
   "outputs": [],
   "source": [
    "diccionario"
   ]
  },
  {
   "cell_type": "markdown",
   "metadata": {},
   "source": [
    "- Cambiando elemento dentro de un diccionario"
   ]
  },
  {
   "cell_type": "code",
   "execution_count": null,
   "metadata": {},
   "outputs": [],
   "source": [
    "diccionario['alumno_5'] += 1"
   ]
  },
  {
   "cell_type": "code",
   "execution_count": null,
   "metadata": {},
   "outputs": [],
   "source": [
    "diccionario"
   ]
  },
  {
   "cell_type": "markdown",
   "metadata": {},
   "source": [
    "- Iterando en un diccionario"
   ]
  },
  {
   "cell_type": "markdown",
   "metadata": {},
   "source": [
    "    - Iterar accediendo a las claves"
   ]
  },
  {
   "cell_type": "code",
   "execution_count": null,
   "metadata": {},
   "outputs": [],
   "source": [
    "for element in diccionario:\n",
    "    print(element)"
   ]
  },
  {
   "cell_type": "code",
   "execution_count": null,
   "metadata": {},
   "outputs": [],
   "source": []
  },
  {
   "cell_type": "markdown",
   "metadata": {},
   "source": [
    "    - Iterar los valores utilizando las claves"
   ]
  },
  {
   "cell_type": "code",
   "execution_count": null,
   "metadata": {},
   "outputs": [],
   "source": [
    "for element in diccionario:\n",
    "    print(element)\n",
    "    print(diccionario[element])"
   ]
  },
  {
   "cell_type": "code",
   "execution_count": null,
   "metadata": {},
   "outputs": [],
   "source": []
  },
  {
   "cell_type": "markdown",
   "metadata": {},
   "source": [
    "    - Iterar accediendo a las claves y valores de forma sumultánea"
   ]
  },
  {
   "cell_type": "code",
   "execution_count": null,
   "metadata": {},
   "outputs": [],
   "source": [
    "for key, value in diccionario.items():\n",
    "    print( key , value)"
   ]
  },
  {
   "cell_type": "code",
   "execution_count": null,
   "metadata": {},
   "outputs": [],
   "source": [
    "diccionario"
   ]
  },
  {
   "cell_type": "markdown",
   "metadata": {},
   "source": [
    "- Eliminar elementos de un diccionario"
   ]
  },
  {
   "cell_type": "markdown",
   "metadata": {},
   "source": [
    "    - Eliminar elemento utilizando del"
   ]
  },
  {
   "cell_type": "code",
   "execution_count": null,
   "metadata": {},
   "outputs": [],
   "source": [
    "del diccionario['alumno_5']"
   ]
  },
  {
   "cell_type": "code",
   "execution_count": null,
   "metadata": {},
   "outputs": [],
   "source": [
    "diccionario"
   ]
  },
  {
   "cell_type": "markdown",
   "metadata": {},
   "source": [
    "    - Eliminar elemento utilizando pop"
   ]
  },
  {
   "cell_type": "code",
   "execution_count": null,
   "metadata": {},
   "outputs": [],
   "source": [
    "eliminado = diccionario.pop(\"alumno_1\")"
   ]
  },
  {
   "cell_type": "code",
   "execution_count": null,
   "metadata": {},
   "outputs": [],
   "source": [
    "eliminado"
   ]
  },
  {
   "cell_type": "markdown",
   "metadata": {},
   "source": [
    "- Uniendo diccionarios"
   ]
  },
  {
   "cell_type": "code",
   "execution_count": null,
   "metadata": {},
   "outputs": [],
   "source": [
    "diccionario"
   ]
  },
  {
   "cell_type": "code",
   "execution_count": null,
   "metadata": {},
   "outputs": [],
   "source": [
    "diccionario_2 = {'alumno_8' : 2,'alumno_9' : 1}\n",
    "diccionario_2"
   ]
  },
  {
   "cell_type": "code",
   "execution_count": null,
   "metadata": {},
   "outputs": [],
   "source": [
    "diccionario.update(diccionario_2)"
   ]
  },
  {
   "cell_type": "code",
   "execution_count": null,
   "metadata": {},
   "outputs": [],
   "source": [
    "diccionario"
   ]
  },
  {
   "cell_type": "markdown",
   "metadata": {},
   "source": [
    "    - Cuando claves colisionan"
   ]
  },
  {
   "cell_type": "code",
   "execution_count": null,
   "metadata": {},
   "outputs": [],
   "source": [
    "diccionario"
   ]
  },
  {
   "cell_type": "code",
   "execution_count": null,
   "metadata": {},
   "outputs": [],
   "source": [
    "diccionario_3 = {\"alumno_5\" : 55}"
   ]
  },
  {
   "cell_type": "code",
   "execution_count": null,
   "metadata": {},
   "outputs": [],
   "source": [
    "diccionario_3.update(diccionario)"
   ]
  },
  {
   "cell_type": "code",
   "execution_count": null,
   "metadata": {},
   "outputs": [],
   "source": [
    "diccionario"
   ]
  },
  {
   "cell_type": "markdown",
   "metadata": {},
   "source": [
    "- invertir diccionarios"
   ]
  },
  {
   "cell_type": "code",
   "execution_count": null,
   "metadata": {},
   "outputs": [],
   "source": [
    "colors = {\n",
    "\"red\": \"#cc0000\",\n",
    "\"green\": \"#00cc00\",\n",
    "\"blue\": \"#00cc00\",\n",
    "}"
   ]
  },
  {
   "cell_type": "code",
   "execution_count": null,
   "metadata": {},
   "outputs": [],
   "source": [
    "{value : key for key, value in colors.items()}"
   ]
  },
  {
   "cell_type": "code",
   "execution_count": null,
   "metadata": {},
   "outputs": [],
   "source": []
  },
  {
   "cell_type": "code",
   "execution_count": null,
   "metadata": {},
   "outputs": [],
   "source": []
  },
  {
   "cell_type": "markdown",
   "metadata": {},
   "source": [
    "- Obtener todas las claves de un diccionario"
   ]
  },
  {
   "cell_type": "code",
   "execution_count": null,
   "metadata": {},
   "outputs": [],
   "source": [
    "colors.keys()"
   ]
  },
  {
   "cell_type": "code",
   "execution_count": null,
   "metadata": {},
   "outputs": [],
   "source": []
  },
  {
   "cell_type": "markdown",
   "metadata": {},
   "source": [
    "- Obtener todos los valores de un diccionario"
   ]
  },
  {
   "cell_type": "code",
   "execution_count": null,
   "metadata": {},
   "outputs": [],
   "source": [
    "colors.values()"
   ]
  },
  {
   "cell_type": "code",
   "execution_count": null,
   "metadata": {},
   "outputs": [],
   "source": [
    "colors"
   ]
  },
  {
   "cell_type": "markdown",
   "metadata": {},
   "source": [
    "- Convertir diccionario a lista"
   ]
  },
  {
   "cell_type": "code",
   "execution_count": null,
   "metadata": {},
   "outputs": [],
   "source": [
    "list(colors.items())"
   ]
  },
  {
   "cell_type": "code",
   "execution_count": null,
   "metadata": {},
   "outputs": [],
   "source": []
  },
  {
   "cell_type": "markdown",
   "metadata": {},
   "source": [
    "- Convertir lista de tuplas a diccionario"
   ]
  },
  {
   "cell_type": "code",
   "execution_count": null,
   "metadata": {},
   "outputs": [],
   "source": [
    "dict([('red', '#cc0000'), ('green', '#00cc00'), ('blue', '#0000cc')])"
   ]
  },
  {
   "cell_type": "markdown",
   "metadata": {},
   "source": [
    "- Convertir dos listas (una con claves y otra con valores) a diccionario"
   ]
  },
  {
   "cell_type": "code",
   "execution_count": null,
   "metadata": {},
   "outputs": [],
   "source": [
    "alumnos = [\"A1\",\"A2\",\"A3\",\"A4\"]\n",
    "notas = [1,3,2]"
   ]
  },
  {
   "cell_type": "code",
   "execution_count": null,
   "metadata": {},
   "outputs": [],
   "source": [
    "dict(zip(alumnos, notas))"
   ]
  },
  {
   "cell_type": "markdown",
   "metadata": {},
   "source": [
    "- Groupby de itertools"
   ]
  },
  {
   "cell_type": "code",
   "execution_count": null,
   "metadata": {},
   "outputs": [],
   "source": [
    "from itertools import groupby"
   ]
  },
  {
   "cell_type": "code",
   "execution_count": null,
   "metadata": {},
   "outputs": [],
   "source": []
  },
  {
   "cell_type": "code",
   "execution_count": null,
   "metadata": {},
   "outputs": [],
   "source": [
    "{ key: list(g) for key, g in groupby('AAAABBBCCDAABBB')}\n"
   ]
  },
  {
   "cell_type": "code",
   "execution_count": null,
   "metadata": {},
   "outputs": [],
   "source": [
    "lista = [1, 2, 6, 7, 2, 5, 8, 9, 1, 2, 9, 7]"
   ]
  },
  {
   "cell_type": "code",
   "execution_count": null,
   "metadata": {},
   "outputs": [],
   "source": [
    "lista"
   ]
  },
  {
   "cell_type": "code",
   "execution_count": null,
   "metadata": {},
   "outputs": [],
   "source": [
    "lista.sort()"
   ]
  },
  {
   "cell_type": "code",
   "execution_count": null,
   "metadata": {},
   "outputs": [],
   "source": [
    "lista"
   ]
  },
  {
   "cell_type": "code",
   "execution_count": null,
   "metadata": {},
   "outputs": [],
   "source": [
    "{key: len(list(g)) for key, g in groupby(lista)}"
   ]
  },
  {
   "cell_type": "code",
   "execution_count": null,
   "metadata": {},
   "outputs": [],
   "source": [
    "lista = [1, 2, 6, 7, 2, 5, 8, 9, 1, 2, 9, 7]\n",
    "\n",
    "diccionario = {}\n",
    "\n",
    "for i in lista:\n",
    "    if i in diccionario:\n",
    "        diccionario[i] += 1\n",
    "    else:\n",
    "        diccionario[i] = 1\n",
    "        \n",
    "print(diccionario)"
   ]
  },
  {
   "cell_type": "code",
   "execution_count": null,
   "metadata": {},
   "outputs": [],
   "source": []
  },
  {
   "cell_type": "code",
   "execution_count": null,
   "metadata": {},
   "outputs": [],
   "source": []
  },
  {
   "cell_type": "code",
   "execution_count": null,
   "metadata": {},
   "outputs": [],
   "source": []
  },
  {
   "cell_type": "code",
   "execution_count": null,
   "metadata": {},
   "outputs": [],
   "source": []
  },
  {
   "cell_type": "markdown",
   "metadata": {},
   "source": [
    "# API (Application Program Interface)"
   ]
  },
  {
   "cell_type": "markdown",
   "metadata": {},
   "source": [
    "Página Web para ser consultada de forma facil desde cualquier programa. Util para integrar sistemas."
   ]
  },
  {
   "cell_type": "markdown",
   "metadata": {},
   "source": [
    "Al programa que consulta se le denomina cliente, mientras que al programa que entrega la\n",
    "respuesta se le suele llamar servidor."
   ]
  },
  {
   "cell_type": "markdown",
   "metadata": {},
   "source": [
    "### API JSONPlaceholders\n",
    "url: https://jsonplaceholder.typicode.com\n",
    "\n",
    "resources:\n",
    "\n",
    "    /posts                   100 posts\n",
    "\n",
    "    /comments                500 comments \n",
    "\n",
    "    /albums                  100 albums\n",
    "\n",
    "    /photos                  5000 photos\n",
    "\n",
    "    /users                   10 users  "
   ]
  },
  {
   "cell_type": "markdown",
   "metadata": {},
   "source": [
    "Routes:\n",
    "\n",
    "    GET     /posts                   \n",
    "\n",
    "    GET     /posts/1              \n",
    "\n",
    "    GET     /posts/1/comments               \n",
    "\n",
    "    GET     /comments?posttId=1           \n",
    "    \n",
    "    GET     /posts?userId=1       \n",
    "    \n",
    "    POST    /posts\n",
    "\n",
    "    PUT\t    /posts/1\n",
    "\n",
    "    DELETE\t/posts/1"
   ]
  },
  {
   "cell_type": "code",
   "execution_count": null,
   "metadata": {},
   "outputs": [],
   "source": [
    "import requests\n",
    "\n",
    "url = \"https://jsonplaceholder.typicode.com/posts\"\n",
    "\n",
    "\n",
    "\n",
    "response = requests.request(\"GET\", url)"
   ]
  },
  {
   "cell_type": "code",
   "execution_count": null,
   "metadata": {},
   "outputs": [],
   "source": [
    "response.status_code"
   ]
  },
  {
   "cell_type": "markdown",
   "metadata": {},
   "source": [
    "200: Ok\n",
    "\n",
    "401: Unauthorized\n",
    "\n",
    "404: Not Found\n",
    "\n",
    "500: Server error"
   ]
  },
  {
   "cell_type": "code",
   "execution_count": null,
   "metadata": {},
   "outputs": [],
   "source": [
    "import json\n",
    "\n",
    "json_response= json.loads(response.text)"
   ]
  },
  {
   "cell_type": "code",
   "execution_count": null,
   "metadata": {},
   "outputs": [],
   "source": [
    "json_response"
   ]
  },
  {
   "cell_type": "code",
   "execution_count": null,
   "metadata": {},
   "outputs": [],
   "source": []
  },
  {
   "cell_type": "code",
   "execution_count": null,
   "metadata": {},
   "outputs": [],
   "source": []
  },
  {
   "cell_type": "code",
   "execution_count": null,
   "metadata": {},
   "outputs": [],
   "source": []
  },
  {
   "cell_type": "code",
   "execution_count": null,
   "metadata": {},
   "outputs": [],
   "source": []
  },
  {
   "cell_type": "code",
   "execution_count": null,
   "metadata": {},
   "outputs": [],
   "source": []
  },
  {
   "cell_type": "code",
   "execution_count": null,
   "metadata": {},
   "outputs": [],
   "source": []
  },
  {
   "cell_type": "code",
   "execution_count": null,
   "metadata": {},
   "outputs": [],
   "source": [
    "import json\n",
    "import requests\n",
    "\n",
    "\n",
    "def request_api(requested_url):\n",
    "    headers = {\n",
    "    \"cache-control\": \"no-cache\",\n",
    "    \"Postman-Token\": \"2defb9f3-9b11-499b-be4f-82505a2f8e1a\",\n",
    "    }\n",
    "    response = requests.request(\"GET\", requested_url, headers=headers)\n",
    "    return json.loads(response.text)"
   ]
  },
  {
   "cell_type": "code",
   "execution_count": null,
   "metadata": {},
   "outputs": [],
   "source": [
    "request_api(\"https://jsonplaceholder.typicode.com/users\")"
   ]
  },
  {
   "cell_type": "code",
   "execution_count": null,
   "metadata": {},
   "outputs": [],
   "source": [
    "data"
   ]
  },
  {
   "cell_type": "code",
   "execution_count": null,
   "metadata": {},
   "outputs": [],
   "source": [
    "html = \"\"\n",
    "for photo in data:\n",
    "    html += \"<img src=\\\"{}\\\">\\n\".format(photo[\"url\"])"
   ]
  },
  {
   "cell_type": "code",
   "execution_count": null,
   "metadata": {},
   "outputs": [],
   "source": [
    "# Escrobir archivo\n",
    "with open(\"output.html\", \"w\") as f:\n",
    "    f.write(html)"
   ]
  },
  {
   "cell_type": "code",
   "execution_count": null,
   "metadata": {},
   "outputs": [],
   "source": []
  },
  {
   "cell_type": "markdown",
   "metadata": {},
   "source": [
    "## API con autenticacion\n",
    " https://developer.oxforddictionaries.com"
   ]
  },
  {
   "cell_type": "code",
   "execution_count": 1,
   "metadata": {},
   "outputs": [],
   "source": [
    "import json\n",
    "import requests\n",
    "\n",
    "\n",
    "def request_api(requested_url):\n",
    "    headers = {\n",
    "    \"app_id\": \"e51457d3\",\n",
    "    \"app_key\": \"6cf09f1d0edbefd2381f937f396150a3\",\n",
    "    }\n",
    "    response = requests.request(\"GET\", requested_url, headers=headers)\n",
    "    return json.loads(response.text)\n",
    "\n",
    "\n",
    "word = \"test\""
   ]
  },
  {
   "cell_type": "code",
   "execution_count": 3,
   "metadata": {},
   "outputs": [
    {
     "data": {
      "text/plain": [
       "{'metadata': {'provider': 'Oxford University Press'},\n",
       " 'results': [{'id': 'test',\n",
       "   'language': 'en',\n",
       "   'lexicalEntries': [{'derivatives': [{'id': 'testability',\n",
       "       'text': 'testability'},\n",
       "      {'id': 'testee', 'text': 'testee'}],\n",
       "     'entries': [{'etymologies': ['late Middle English (denoting a cupel used to treat gold or silver alloys or ore): via Old French from Latin testu, testum ‘earthen pot’, variant of testa ‘jug, shell’. Compare with test. The verb dates from the early 17th century'],\n",
       "       'grammaticalFeatures': [{'text': 'Singular', 'type': 'Number'}],\n",
       "       'homographNumber': '100',\n",
       "       'senses': [{'definitions': ['a procedure intended to establish the quality, performance, or reliability of something, especially before it is taken into widespread use'],\n",
       "         'examples': [{'text': 'four fax modems are on test'},\n",
       "          {'text': 'both countries carried out nuclear tests in May'}],\n",
       "         'id': 'm_en_gbus1042280.006',\n",
       "         'short_definitions': ['procedure intended to establish quality, performance, or reliability of something'],\n",
       "         'subsenses': [{'definitions': [\"a short written or spoken examination of a person's proficiency or knowledge\"],\n",
       "           'examples': [{'text': 'a spelling test'}],\n",
       "           'id': 'm_en_gbus1042280.009',\n",
       "           'short_definitions': [\"short written or spoken examination of person's proficiency or knowledge\"],\n",
       "           'thesaurusLinks': [{'entry_id': 'test',\n",
       "             'sense_id': 't_en_gb0014747.002'}]},\n",
       "          {'definitions': ['an event or situation that reveals the strength or quality of someone or something by putting them under strain'],\n",
       "           'examples': [{'text': 'this is the first serious test of the peace agreement'}],\n",
       "           'id': 'm_en_gbus1042280.010',\n",
       "           'short_definitions': ['event or situation that reveals strength or quality of person or thing by putting them under strain']},\n",
       "          {'definitions': ['an examination of part of the body or a body fluid for medical purposes, especially by means of a chemical or mechanical procedure rather than simple inspection'],\n",
       "           'domains': ['Medicine'],\n",
       "           'examples': [{'text': 'eye tests'},\n",
       "            {'text': 'researchers developed a test for the virus'}],\n",
       "           'id': 'm_en_gbus1042280.011',\n",
       "           'short_definitions': ['examination of part of body or body fluid for medical purposes']},\n",
       "          {'definitions': ['a procedure employed to identify a substance or to reveal the presence or absence of a constituent within a substance.'],\n",
       "           'domains': ['Chemistry'],\n",
       "           'id': 'm_en_gbus1042280.012',\n",
       "           'short_definitions': ['procedure employed to identify substance or to reveal presence or absence of constituent within substance']},\n",
       "          {'definitions': ['the result of a medical examination or analytical procedure'],\n",
       "           'domains': ['Medicine'],\n",
       "           'examples': [{'text': 'a positive test for protein'}],\n",
       "           'id': 'm_en_gbus1042280.013',\n",
       "           'short_definitions': ['result of medical examination or analytical procedure']},\n",
       "          {'definitions': ['a means of establishing whether an action, item, or situation is an instance of a specified quality, especially one held to be undesirable'],\n",
       "           'examples': [{'text': 'a statutory test of obscenity'}],\n",
       "           'id': 'm_en_gbus1042280.014',\n",
       "           'short_definitions': ['means of establishing whether action, item, or situation is instance of specified quality'],\n",
       "           'thesaurusLinks': [{'entry_id': 'test',\n",
       "             'sense_id': 't_en_gb0014747.003'}]}],\n",
       "         'thesaurusLinks': [{'entry_id': 'test',\n",
       "           'sense_id': 't_en_gb0014747.001'}]},\n",
       "        {'crossReferenceMarkers': ['short for Test match'],\n",
       "         'crossReferences': [{'id': 'test_match',\n",
       "           'text': 'Test match',\n",
       "           'type': 'abbreviation'}],\n",
       "         'examples': [{'text': 'the first Test against New Zealand'}],\n",
       "         'id': 'm_en_gbus1042280.016',\n",
       "         'variantForms': [{'text': 'Test'}]},\n",
       "        {'definitions': ['a movable hearth in a reverberating furnace, used for separating gold or silver from lead.'],\n",
       "         'domains': ['Metallurgy'],\n",
       "         'id': 'm_en_gbus1042280.021',\n",
       "         'short_definitions': ['movable hearth in reverberating furnace, used for separating gold or silver from lead']}]},\n",
       "      {'etymologies': ['mid 19th century: from Latin testa ‘tile, jug, shell’. Compare with test'],\n",
       "       'grammaticalFeatures': [{'text': 'Singular', 'type': 'Number'}],\n",
       "       'homographNumber': '200',\n",
       "       'senses': [{'definitions': ['the shell or integument of some invertebrates and protozoans, especially the chalky shell of a foraminiferan or the tough outer layer of a tunicate.'],\n",
       "         'domains': ['Zoology'],\n",
       "         'id': 'm_en_gbus1042290.005',\n",
       "         'short_definitions': ['shell or integument of some invertebrates and protozoans']}]}],\n",
       "     'language': 'en',\n",
       "     'lexicalCategory': 'Noun',\n",
       "     'pronunciations': [{'audioFile': 'http://audio.oxforddictionaries.com/en/mp3/test_gb_1.mp3',\n",
       "       'dialects': ['British English'],\n",
       "       'phoneticNotation': 'IPA',\n",
       "       'phoneticSpelling': 'tɛst'}],\n",
       "     'text': 'test'},\n",
       "    {'derivatives': [{'id': 'testee', 'text': 'testee'},\n",
       "      {'id': 'testability', 'text': 'testability'}],\n",
       "     'entries': [{'grammaticalFeatures': [{'text': 'Transitive',\n",
       "         'type': 'Subcategorization'},\n",
       "        {'text': 'Present', 'type': 'Tense'}],\n",
       "       'homographNumber': '101',\n",
       "       'senses': [{'definitions': ['take measures to check the quality, performance, or reliability of (something), especially before putting it into widespread use or practice'],\n",
       "         'domains': ['Metallurgy'],\n",
       "         'examples': [{'text': 'this range has not been tested on animals'},\n",
       "          {'text': 'several trial runs were carried out to test the special brakes'}],\n",
       "         'id': 'm_en_gbus1042280.023',\n",
       "         'short_definitions': ['take measures to check quality, performance, or reliability of something'],\n",
       "         'subsenses': [{'definitions': ['give (someone) a short written or oral examination of their proficiency or knowledge'],\n",
       "           'examples': [{'text': 'all children are tested at eleven'}],\n",
       "           'id': 'm_en_gbus1042280.029',\n",
       "           'short_definitions': ['give someone short written or oral examination of their proficiency or knowledge']},\n",
       "          {'definitions': [\"judge or measure (someone's proficiency or knowledge) by means of a test\"],\n",
       "           'examples': [{'text': 'the exam will test accuracy and neatness'}],\n",
       "           'id': 'm_en_gbus1042280.030',\n",
       "           'short_definitions': [\"judge or measure someone's proficiency or knowledge by means of test\"]},\n",
       "          {'definitions': ['reveal the strengths or capabilities of (someone or something) by putting them under strain'],\n",
       "           'examples': [{'text': 'such behaviour would severely test any marriage'}],\n",
       "           'id': 'm_en_gbus1042280.031',\n",
       "           'short_definitions': ['reveal strengths or capabilities of person or thing by putting them under strain'],\n",
       "           'thesaurusLinks': [{'entry_id': 'testing',\n",
       "             'sense_id': 't_en_gb0014753.001'},\n",
       "            {'entry_id': 'test', 'sense_id': 't_en_gb0014747.005'}]},\n",
       "          {'definitions': ['carry out a medical test on (a person, a part of the body, or a body fluid)'],\n",
       "           'domains': ['Medicine'],\n",
       "           'examples': [{'text': \"he's been tested for drugs\"}],\n",
       "           'id': 'm_en_gbus1042280.032',\n",
       "           'short_definitions': ['carry out medical test on']},\n",
       "          {'definitions': ['produce a specified result in a medical test, especially a drugs test or AIDS test'],\n",
       "           'domains': ['Medicine'],\n",
       "           'examples': [{'text': 'he tested positive for steroids during the race'}],\n",
       "           'id': 'm_en_gbus1042280.033',\n",
       "           'notes': [{'text': 'no object, with complement',\n",
       "             'type': 'grammaticalNote'}],\n",
       "           'short_definitions': ['produce specified result in medical test']},\n",
       "          {'definitions': ['examine (a substance) by means of a reagent.'],\n",
       "           'domains': ['Chemistry'],\n",
       "           'id': 'm_en_gbus1042280.034',\n",
       "           'short_definitions': ['examine substance by means of reagent']},\n",
       "          {'definitions': ['touch or taste (something) to check that it is acceptable before proceeding further'],\n",
       "           'examples': [{'text': 'she tested the water with the tip of her elbow'}],\n",
       "           'id': 'm_en_gbus1042280.035',\n",
       "           'short_definitions': ['touch or taste something to check that it is acceptable before proceeding further']}],\n",
       "         'thesaurusLinks': [{'entry_id': 'test',\n",
       "           'sense_id': 't_en_gb0014747.004'}]}]}],\n",
       "     'language': 'en',\n",
       "     'lexicalCategory': 'Verb',\n",
       "     'pronunciations': [{'audioFile': 'http://audio.oxforddictionaries.com/en/mp3/test_gb_1.mp3',\n",
       "       'dialects': ['British English'],\n",
       "       'phoneticNotation': 'IPA',\n",
       "       'phoneticSpelling': 'tɛst'}],\n",
       "     'text': 'test'}],\n",
       "   'type': 'headword',\n",
       "   'word': 'test'}]}"
      ]
     },
     "execution_count": 3,
     "metadata": {},
     "output_type": "execute_result"
    }
   ],
   "source": [
    "response = request_api(\"https://od-api.oxforddictionaries.com:443/api/v1/entries/en/{}\".format(word))\n",
    "response"
   ]
  },
  {
   "cell_type": "code",
   "execution_count": null,
   "metadata": {},
   "outputs": [],
   "source": []
  }
 ],
 "metadata": {
  "kernelspec": {
   "display_name": "Python 3",
   "language": "python",
   "name": "python3"
  },
  "language_info": {
   "codemirror_mode": {
    "name": "ipython",
    "version": 3
   },
   "file_extension": ".py",
   "mimetype": "text/x-python",
   "name": "python",
   "nbconvert_exporter": "python",
   "pygments_lexer": "ipython3",
   "version": "3.6.7"
  }
 },
 "nbformat": 4,
 "nbformat_minor": 2
}
