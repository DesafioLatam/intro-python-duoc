{
 "cells": [
  {
   "cell_type": "markdown",
   "metadata": {},
   "source": [
    "# Características de Python"
   ]
  },
  {
   "cell_type": "code",
   "execution_count": 4,
   "metadata": {},
   "outputs": [],
   "source": [
    "dos_mas_dos = 2 + 2"
   ]
  },
  {
   "cell_type": "code",
   "execution_count": 5,
   "metadata": {},
   "outputs": [],
   "source": [
    "numero_flotante = 3.16"
   ]
  },
  {
   "cell_type": "code",
   "execution_count": 6,
   "metadata": {},
   "outputs": [],
   "source": [
    "cadena = \"Lorem ipsum dolor sit amet\""
   ]
  },
  {
   "cell_type": "code",
   "execution_count": 7,
   "metadata": {},
   "outputs": [
    {
     "data": {
      "text/plain": [
       "7.16"
      ]
     },
     "execution_count": 7,
     "metadata": {},
     "output_type": "execute_result"
    }
   ],
   "source": [
    "dos_mas_dos + numero_flotante"
   ]
  },
  {
   "cell_type": "code",
   "execution_count": 8,
   "metadata": {},
   "outputs": [
    {
     "ename": "TypeError",
     "evalue": "unsupported operand type(s) for +: 'int' and 'str'",
     "output_type": "error",
     "traceback": [
      "\u001b[0;31m----------------------------------------\u001b[0m",
      "\u001b[0;31mTypeError\u001b[0mTraceback (most recent call last)",
      "\u001b[0;32m<ipython-input-8-050e4683ce0b>\u001b[0m in \u001b[0;36m<module>\u001b[0;34m()\u001b[0m\n\u001b[0;32m----> 1\u001b[0;31m \u001b[0mdos_mas_dos\u001b[0m \u001b[0;34m+\u001b[0m \u001b[0mcadena\u001b[0m\u001b[0;34m\u001b[0m\u001b[0m\n\u001b[0m",
      "\u001b[0;31mTypeError\u001b[0m: unsupported operand type(s) for +: 'int' and 'str'"
     ]
    }
   ],
   "source": [
    "dos_mas_dos + cadena"
   ]
  },
  {
   "cell_type": "code",
   "execution_count": 11,
   "metadata": {},
   "outputs": [],
   "source": [
    "string_4 = str(dos_mas_dos)"
   ]
  },
  {
   "cell_type": "code",
   "execution_count": 13,
   "metadata": {},
   "outputs": [
    {
     "data": {
      "text/plain": [
       "'Lorem ipsum dolor sit amet4'"
      ]
     },
     "execution_count": 13,
     "metadata": {},
     "output_type": "execute_result"
    }
   ],
   "source": [
    "cadena + str(dos_mas_dos)"
   ]
  },
  {
   "cell_type": "code",
   "execution_count": 15,
   "metadata": {},
   "outputs": [],
   "source": [
    "# En esta linea voy a guardar el resultado de pi\n",
    "# para ello, necesito importar el módulo math\n",
    "import math\n",
    "\n",
    "pi_guardado = math.pi"
   ]
  },
  {
   "cell_type": "code",
   "execution_count": 23,
   "metadata": {},
   "outputs": [],
   "source": [
    "\"\"\"\n",
    "Resulta que existe otra forma de exportar la funcion pi\n",
    "Ahora la vamos a ver\n",
    "\n",
    "\"\"\"\n",
    "\n",
    "from math import pi, sqrt\n"
   ]
  },
  {
   "cell_type": "code",
   "execution_count": 46,
   "metadata": {},
   "outputs": [],
   "source": [
    "cadena_1 = \"tapir, ornitorrinco, perro\"\n",
    "cadena_2  = \"gato, tortuga, hurón\""
   ]
  },
  {
   "cell_type": "code",
   "execution_count": 43,
   "metadata": {},
   "outputs": [],
   "source": [
    "cadena_3 = \"Perro\""
   ]
  },
  {
   "cell_type": "code",
   "execution_count": 48,
   "metadata": {},
   "outputs": [
    {
     "data": {
      "text/plain": [
       "'Perro'"
      ]
     },
     "execution_count": 48,
     "metadata": {},
     "output_type": "execute_result"
    }
   ],
   "source": [
    "cadena_3."
   ]
  },
  {
   "cell_type": "code",
   "execution_count": 57,
   "metadata": {},
   "outputs": [
    {
     "data": {
      "text/plain": [
       "True"
      ]
     },
     "execution_count": 57,
     "metadata": {},
     "output_type": "execute_result"
    }
   ],
   "source": []
  },
  {
   "cell_type": "markdown",
   "metadata": {},
   "source": [
    "# Elementos básicos de Python\n",
    "\n",
    "## Comentarios"
   ]
  },
  {
   "cell_type": "code",
   "execution_count": null,
   "metadata": {},
   "outputs": [],
   "source": [
    "# Comentarios simples\n",
    "\n",
    "\"\"\"\n",
    "Comentarios múltiples\n",
    "\"\"\""
   ]
  },
  {
   "cell_type": "markdown",
   "metadata": {},
   "source": [
    "## Variables"
   ]
  },
  {
   "cell_type": "markdown",
   "metadata": {},
   "source": [
    "Toda operación que asigne mediante el operación `=` se guardará en un nombre de la variable"
   ]
  },
  {
   "cell_type": "markdown",
   "metadata": {},
   "source": [
    "## Ingreso de datos\n",
    "\n",
    "Podemos ingresar datos con `sys.argv` para leer desde la consola"
   ]
  },
  {
   "cell_type": "markdown",
   "metadata": {},
   "source": [
    "Podemos ingresar datos del usuario con un prompt mediante `input`\n",
    "\n",
    "__Todo valor ingresado por éstos métodos devolverá un string__. Es necesario coercionar su tipo de dato,"
   ]
  },
  {
   "cell_type": "code",
   "execution_count": null,
   "metadata": {},
   "outputs": [],
   "source": []
  },
  {
   "cell_type": "markdown",
   "metadata": {},
   "source": [
    "## Introducción a Objetos"
   ]
  },
  {
   "cell_type": "markdown",
   "metadata": {},
   "source": [
    "### Objetos y métodos\n",
    "\n",
    "\n",
    "* Todo objeto creado en Python tendrá una clase asociada, y una serie de funciones y acciones que podrá realizar"
   ]
  },
  {
   "cell_type": "markdown",
   "metadata": {},
   "source": [
    "### Tipos de datos"
   ]
  },
  {
   "cell_type": "code",
   "execution_count": 63,
   "metadata": {},
   "outputs": [
    {
     "data": {
      "text/plain": [
       "False"
      ]
     },
     "execution_count": 63,
     "metadata": {},
     "output_type": "execute_result"
    }
   ],
   "source": [
    "5 == 6"
   ]
  },
  {
   "cell_type": "code",
   "execution_count": 64,
   "metadata": {},
   "outputs": [],
   "source": [
    "lista_1 = list(range(10))"
   ]
  },
  {
   "cell_type": "markdown",
   "metadata": {},
   "source": [
    "Evalua de izquierda a derecha, salvo que definamos operaciones dentro de paréntesis."
   ]
  },
  {
   "cell_type": "code",
   "execution_count": 70,
   "metadata": {},
   "outputs": [
    {
     "data": {
      "text/plain": [
       "False"
      ]
     },
     "execution_count": 70,
     "metadata": {},
     "output_type": "execute_result"
    }
   ],
   "source": [
    "'Gato' in lista_1 == 5 == 5"
   ]
  },
  {
   "cell_type": "markdown",
   "metadata": {},
   "source": [
    "### Distintas formas de interpolación"
   ]
  },
  {
   "cell_type": "code",
   "execution_count": null,
   "metadata": {},
   "outputs": [],
   "source": [
    "nombre = input(\"Escribe tu nombre\")\n",
    "edad = int(input(\"Escribe tu edad\"))\n",
    "\n",
    "if edad > 18:\n",
    "    # Forma uno de Python 3.x\n",
    "    print(\"{} -> {}\".format(nombre, edad))\n",
    "    # Forma dos, de python 3.5\n",
    "    print(f'{nombre} -> {edad}')\n",
    "    # forma antigua, python 2.x\n",
    "    print(\"%s -> %s\" % (nombre, edad))"
   ]
  },
  {
   "cell_type": "markdown",
   "metadata": {},
   "source": [
    "### Usos de if, elif y else\n",
    "\n",
    "* If permite evaluar una condición.\n",
    "* Elif permite evaluar una condición secundaria __siempre y cuando la primera no se cumpla__.\n",
    "* Else genera una condición para todos aquellos valores que no satisfagan la condicieon"
   ]
  },
  {
   "cell_type": "code",
   "execution_count": null,
   "metadata": {},
   "outputs": [],
   "source": [
    "nombre = input(\"Escribe tu nombre\")\n",
    "\n",
    "if (nombre not in \"Bernarda\") or (nombre not in \"Magdalena\"):\n",
    "    print(\"No eres Bernarda, vuelve a intentar\")\n",
    "elif (nombre in \"Bernarda\") or (nombre in \"Magdalena\"):\n",
    "    edad = int(input(\"Y tu edad?\"))\n",
    "    if edad < 50:\n",
    "        print(\"Estás en el mercado laboral\")\n",
    "    else:\n",
    "        print(\"Deberías jubilar\")\n",
    "    "
   ]
  },
  {
   "cell_type": "markdown",
   "metadata": {},
   "source": [
    "## Importancia de saber con qué tipo de dato trabajamos"
   ]
  },
  {
   "cell_type": "code",
   "execution_count": 5,
   "metadata": {},
   "outputs": [],
   "source": [
    "lista_heterogenea = ['a', 5.32, True, 'gato', 5, [1, 2, 3]]"
   ]
  },
  {
   "cell_type": "code",
   "execution_count": 6,
   "metadata": {},
   "outputs": [
    {
     "data": {
      "text/plain": [
       "['a', 5.32, True, 'gato', 5, [1, 2, 3]]"
      ]
     },
     "execution_count": 6,
     "metadata": {},
     "output_type": "execute_result"
    }
   ],
   "source": [
    "lista_heterogenea"
   ]
  },
  {
   "cell_type": "markdown",
   "metadata": {},
   "source": [
    "Mediante el tipo de dato podemos realizar una serie de func"
   ]
  },
  {
   "cell_type": "code",
   "execution_count": 4,
   "metadata": {},
   "outputs": [
    {
     "name": "stdout",
     "output_type": "stream",
     "text": [
      "a paralelepipedo  es cadena y genera una concatenación\n",
      "10.32  es flotante y devuelve una serie con parte decimal\n",
      "gato paralelepipedo  es cadena y genera una concatenación\n",
      "6  es entero y devuelve una suma de entero\n",
      "[1, 2, 3]  es una lista y por tanto puedo seguir iterando en ella\n",
      "1  estoy iterando en una lista y cada uno de sus elementos\n",
      "2  estoy iterando en una lista y cada uno de sus elementos\n",
      "3  estoy iterando en una lista y cada uno de sus elementos\n"
     ]
    }
   ],
   "source": [
    "for i in lista_heterogenea:\n",
    "    if type(i) is str:\n",
    "        print(i + \" paralelepipedo\", \" es cadena y genera una concatenación\")\n",
    "    if type(i) is int:\n",
    "        print(i + 1, \" es entero y devuelve una suma de entero\")\n",
    "    if type(i) is float:\n",
    "        print(i + 5, \" es flotante y devuelve una serie con parte decimal\")\n",
    "    if type(i) is list:\n",
    "        print(i, \" es una lista y por tanto puedo seguir iterando en ella\")\n",
    "        for j in i:\n",
    "            print(j, \" estoy iterando en una lista y cada uno de sus elementos\")"
   ]
  },
  {
   "cell_type": "code",
   "execution_count": null,
   "metadata": {},
   "outputs": [],
   "source": []
  }
 ],
 "metadata": {
  "kernelspec": {
   "display_name": "Python 3",
   "language": "python",
   "name": "python3"
  },
  "language_info": {
   "codemirror_mode": {
    "name": "ipython",
    "version": 3
   },
   "file_extension": ".py",
   "mimetype": "text/x-python",
   "name": "python",
   "nbconvert_exporter": "python",
   "pygments_lexer": "ipython3",
   "version": "3.6.5"
  }
 },
 "nbformat": 4,
 "nbformat_minor": 2
}
